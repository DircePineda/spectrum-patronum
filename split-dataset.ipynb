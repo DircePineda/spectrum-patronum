{
 "cells": [
  {
   "cell_type": "code",
   "execution_count": 1,
   "id": "e650f48f",
   "metadata": {
    "execution": {
     "iopub.execute_input": "2023-10-16T20:24:29.986423Z",
     "iopub.status.busy": "2023-10-16T20:24:29.986057Z",
     "iopub.status.idle": "2023-10-16T20:24:30.579194Z",
     "shell.execute_reply": "2023-10-16T20:24:30.577725Z"
    },
    "papermill": {
     "duration": 0.600492,
     "end_time": "2023-10-16T20:24:30.581779",
     "exception": false,
     "start_time": "2023-10-16T20:24:29.981287",
     "status": "completed"
    },
    "tags": []
   },
   "outputs": [
    {
     "name": "stdout",
     "output_type": "stream",
     "text": [
      "Index(['#Wave', '#Intensity'], dtype='object')\n"
     ]
    }
   ],
   "source": [
    "import pandas as pd\n",
    "\n",
    "# path CSV file\n",
    "file_path = '/kaggle/input/malaria/malaria.csv'\n",
    "\n",
    "# Read CSV file into a Pandas DataFrame\n",
    "data = pd.read_csv(file_path)\n",
    "\n",
    "print(data.columns)"
   ]
  }
 ],
 "metadata": {
  "kernelspec": {
   "display_name": "Python 3",
   "language": "python",
   "name": "python3"
  },
  "language_info": {
   "codemirror_mode": {
    "name": "ipython",
    "version": 3
   },
   "file_extension": ".py",
   "mimetype": "text/x-python",
   "name": "python",
   "nbconvert_exporter": "python",
   "pygments_lexer": "ipython3",
   "version": "3.10.12"
  },
  "papermill": {
   "default_parameters": {},
   "duration": 4.68341,
   "end_time": "2023-10-16T20:24:31.105300",
   "environment_variables": {},
   "exception": null,
   "input_path": "__notebook__.ipynb",
   "output_path": "__notebook__.ipynb",
   "parameters": {},
   "start_time": "2023-10-16T20:24:26.421890",
   "version": "2.4.0"
  }
 },
 "nbformat": 4,
 "nbformat_minor": 5
}
