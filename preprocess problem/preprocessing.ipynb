{
 "cells": [
  {
   "cell_type": "code",
   "execution_count": 1,
   "id": "67d49fe1",
   "metadata": {
    "execution": {
     "iopub.execute_input": "2023-10-17T19:48:59.965563Z",
     "iopub.status.busy": "2023-10-17T19:48:59.965214Z",
     "iopub.status.idle": "2023-10-17T19:49:04.230226Z",
     "shell.execute_reply": "2023-10-17T19:49:04.229090Z"
    },
    "papermill": {
     "duration": 4.270647,
     "end_time": "2023-10-17T19:49:04.232774",
     "exception": false,
     "start_time": "2023-10-17T19:48:59.962127",
     "status": "completed"
    },
    "tags": []
   },
   "outputs": [],
   "source": [
    "# COSMIC RAY REMOVAL\n",
    "# Detect cosmic ray spikes based on second difference exceeding predefined threshold & replace spikes with linearly interpolated values from neighboring data points\n",
    "import pandas as pd\n",
    "import numpy as np\n",
    "\n",
    "file_path = '/kaggle/input/malaria/malaria.csv'\n",
    "data = pd.read_csv(file_path)\n",
    "\n",
    "# Actual column names\n",
    "wave_column = '#Wave'\n",
    "intensity_column = '#Intensity'\n",
    "\n",
    "# Calculate the second difference of the spectrum to accentuate sharp spikes\n",
    "first_difference = np.diff(data[intensity_column], n=1)\n",
    "second_difference = np.diff(first_difference, n=1)\n",
    "\n",
    "# Identify points where the second difference exceeds a predefined threshold, indicating a cosmic ray spike\n",
    "threshold = 0.2\n",
    "cosmic_ray_indices = np.where(second_difference > threshold)[0]\n",
    "\n",
    "# Replace these points using linear interpolation from neighboring data points\n",
    "for index in cosmic_ray_indices:\n",
    "    if index - 1 >= 0 and index + 1 < len(data): # index must be within a valid range\n",
    "        left_neighbor = data.at[index - 1, intensity_column]\n",
    "        right_neighbor = data.at[index + 1, intensity_column]\n",
    "\n",
    "        # Linear interpolation to replace cosmic ray spike\n",
    "        interpolated_value = left_neighbor + (right_neighbor - left_neighbor) / 2\n",
    "        data.at[index, intensity_column] = interpolated_value\n"
   ]
  }
 ],
 "metadata": {
  "kernelspec": {
   "display_name": "Python 3",
   "language": "python",
   "name": "python3"
  },
  "language_info": {
   "codemirror_mode": {
    "name": "ipython",
    "version": 3
   },
   "file_extension": ".py",
   "mimetype": "text/x-python",
   "name": "python",
   "nbconvert_exporter": "python",
   "pygments_lexer": "ipython3",
   "version": "3.10.12"
  },
  "papermill": {
   "default_parameters": {},
   "duration": 8.63413,
   "end_time": "2023-10-17T19:49:04.653178",
   "environment_variables": {},
   "exception": null,
   "input_path": "__notebook__.ipynb",
   "output_path": "__notebook__.ipynb",
   "parameters": {},
   "start_time": "2023-10-17T19:48:56.019048",
   "version": "2.4.0"
  }
 },
 "nbformat": 4,
 "nbformat_minor": 5
}
