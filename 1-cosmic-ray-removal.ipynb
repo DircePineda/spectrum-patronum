{
 "cells": [
  {
   "cell_type": "code",
   "execution_count": 1,
   "id": "7d845a24",
   "metadata": {
    "execution": {
     "iopub.execute_input": "2023-10-23T19:32:23.342865Z",
     "iopub.status.busy": "2023-10-23T19:32:23.341935Z",
     "iopub.status.idle": "2023-10-23T19:32:24.047351Z",
     "shell.execute_reply": "2023-10-23T19:32:24.046331Z"
    },
    "papermill": {
     "duration": 0.712862,
     "end_time": "2023-10-23T19:32:24.050382",
     "exception": false,
     "start_time": "2023-10-23T19:32:23.337520",
     "status": "completed"
    },
    "tags": []
   },
   "outputs": [],
   "source": [
    "# COSMIC RAY REMOVAL\n",
    "# Detect cosmic ray spikes based on second difference exceeding predefined threshold \n",
    "# Replace spikes with linearly interpolated values from neighboring data points\n",
    "\n",
    "import pandas as pd\n",
    "import numpy as np\n",
    "\n",
    "file_path = '/kaggle/input/synthetic-spect-xy/synthetic_spectra_xy.csv'\n",
    "data = pd.read_csv(file_path)\n",
    "\n",
    "# Actual column names\n",
    "wave_column = 'Wave'\n",
    "intensity_column = 'Intensity'\n",
    "\n",
    "# Calculate second difference to accentuate sharp spikes\n",
    "first_difference = np.diff(data[intensity_column], n=1)\n",
    "second_difference = np.diff(first_difference, n=1)\n",
    "\n",
    "# Identify points where second difference exceeds a predefined threshold, indicating a cosmic ray spike\n",
    "threshold = 0.2\n",
    "cosmic_ray_indices = np.where(second_difference > threshold)[0]\n",
    "\n",
    "# Replace these points using linear interpolation from neighboring data points\n",
    "for index in cosmic_ray_indices:\n",
    "    if index - 1 >= 0 and index + 1 < len(data): # index must be within a valid range\n",
    "        left_neighbor = data.at[index - 1, intensity_column]\n",
    "        right_neighbor = data.at[index + 1, intensity_column]\n",
    "\n",
    "        # Linear interpolation to replace cosmic ray spike\n",
    "        interpolated_value = left_neighbor + (right_neighbor - left_neighbor) / 2\n",
    "        data.at[index, intensity_column] = interpolated_value\n",
    "        \n",
    "# Save modified DataFrame\n",
    "output_file_path = '/kaggle/working/output'\n",
    "data.to_csv(output_file_path, index=False)"
   ]
  }
 ],
 "metadata": {
  "kernelspec": {
   "display_name": "Python 3",
   "language": "python",
   "name": "python3"
  },
  "language_info": {
   "codemirror_mode": {
    "name": "ipython",
    "version": 3
   },
   "file_extension": ".py",
   "mimetype": "text/x-python",
   "name": "python",
   "nbconvert_exporter": "python",
   "pygments_lexer": "ipython3",
   "version": "3.10.12"
  },
  "papermill": {
   "default_parameters": {},
   "duration": 5.138448,
   "end_time": "2023-10-23T19:32:24.575765",
   "environment_variables": {},
   "exception": null,
   "input_path": "__notebook__.ipynb",
   "output_path": "__notebook__.ipynb",
   "parameters": {},
   "start_time": "2023-10-23T19:32:19.437317",
   "version": "2.4.0"
  }
 },
 "nbformat": 4,
 "nbformat_minor": 5
}
