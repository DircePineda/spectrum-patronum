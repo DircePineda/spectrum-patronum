{
 "cells": [
  {
   "cell_type": "code",
   "execution_count": 1,
   "id": "660d38c8",
   "metadata": {
    "execution": {
     "iopub.execute_input": "2023-10-20T19:26:30.652933Z",
     "iopub.status.busy": "2023-10-20T19:26:30.652066Z",
     "iopub.status.idle": "2023-10-20T19:26:31.653356Z",
     "shell.execute_reply": "2023-10-20T19:26:31.652397Z"
    },
    "papermill": {
     "duration": 1.008148,
     "end_time": "2023-10-20T19:26:31.656050",
     "exception": false,
     "start_time": "2023-10-20T19:26:30.647902",
     "status": "completed"
    },
    "tags": []
   },
   "outputs": [
    {
     "name": "stderr",
     "output_type": "stream",
     "text": [
      "/opt/conda/lib/python3.10/site-packages/numpy/polynomial/chebyshev.py:1671: RankWarning: The fit may be poorly conditioned\n",
      "  return pu._fit(chebvander, x, y, deg, rcond, full, w)\n"
     ]
    }
   ],
   "source": [
    "import numpy as np\n",
    "import pandas as pd\n",
    "\n",
    "# Load data into DataFrame\n",
    "df = pd.read_csv('/kaggle/input/synthetic-spect-xy/synthetic_spectra_xy.csv')\n",
    "\n",
    "# Access columns from DataFrame\n",
    "wavelengths = df['Wavelength']\n",
    "intensities = df['Intensity']\n",
    "\n",
    "# 1. Identify Baseline Regions\n",
    "def identify_baseline_regions(spectrum, min_peak_height=0.01):\n",
    "    # Implement algorithm to identify baseline regions in spectrum\n",
    "    # Parameters: \n",
    "    # - spectrum: Raman spectrum as a numpy array of intensity values\n",
    "    # - min_peak_height: Minimum peak height to consider a point as a peak\n",
    "    # Returns: list of tuples specifying start & end indices of baseline regions\n",
    "    \n",
    "    # Find local minima in spectrum\n",
    "    is_peak = (spectrum < np.roll(spectrum, 1)) & (spectrum < np.roll(spectrum, -1))\n",
    "\n",
    "    baseline_regions = []\n",
    "    region_start = 0\n",
    "\n",
    "    for i in range(1, len(spectrum) - 1):\n",
    "        if is_peak[i]:\n",
    "            # If previous region is long enough, consider it a baseline region\n",
    "            if i - region_start > 2:\n",
    "                baseline_regions.append((region_start, i))\n",
    "            region_start = i + 1\n",
    "\n",
    "    # Check if the last region is a baseline region\n",
    "    if region_start < len(spectrum) - 1:\n",
    "        baseline_regions.append((region_start, len(spectrum) - 1))\n",
    "\n",
    "    # Filter regions based on peak height\n",
    "    baseline_regions = [region for region in baseline_regions if np.min(spectrum[region[0]:region[1] + 1]) < min_peak_height]\n",
    "\n",
    "    return baseline_regions\n",
    "\n",
    "# Apply baseline identification function to intensities array\n",
    "baseline_regions = identify_baseline_regions(intensities)\n",
    "\n",
    "# 2. Fit Chebyshev Polynomials to Baseline Regions\n",
    "for start, end in baseline_regions:\n",
    "    # Get the wavelengths and intensities in the baseline region\n",
    "    baseline_wavelengths = wavelengths[start:end]\n",
    "    baseline_intensities = intensities[start:end]\n",
    "    \n",
    "    # Fit Chebyshev polynomial to the baseline region\n",
    "    poly_order = 3  # Choose an appropriate order for the Chebyshev polynomial\n",
    "    coeffs = np.polynomial.chebyshev.chebfit(baseline_wavelengths, baseline_intensities, poly_order)\n",
    "\n",
    "    # 3. Update the Fitted Curve \n",
    "    # implement a loop here to update the fitted polynomial to ensure it remains beneath the spectrum.\n",
    "\n",
    "    # 4. Subtract the Fitted Polynomial\n",
    "    # Evaluate the fitted polynomial over the entire spectrum range\n",
    "    fitted_baseline = np.polynomial.chebyshev.chebval(wavelengths, coeffs)\n",
    "\n",
    "    # Subtract fitted baseline from original spectrum to correct baseline\n",
    "    corrected_spectrum = intensities - fitted_baseline"
   ]
  }
 ],
 "metadata": {
  "kernelspec": {
   "display_name": "Python 3",
   "language": "python",
   "name": "python3"
  },
  "language_info": {
   "codemirror_mode": {
    "name": "ipython",
    "version": 3
   },
   "file_extension": ".py",
   "mimetype": "text/x-python",
   "name": "python",
   "nbconvert_exporter": "python",
   "pygments_lexer": "ipython3",
   "version": "3.10.12"
  },
  "papermill": {
   "default_parameters": {},
   "duration": 5.068748,
   "end_time": "2023-10-20T19:26:32.082513",
   "environment_variables": {},
   "exception": null,
   "input_path": "__notebook__.ipynb",
   "output_path": "__notebook__.ipynb",
   "parameters": {},
   "start_time": "2023-10-20T19:26:27.013765",
   "version": "2.4.0"
  }
 },
 "nbformat": 4,
 "nbformat_minor": 5
}
