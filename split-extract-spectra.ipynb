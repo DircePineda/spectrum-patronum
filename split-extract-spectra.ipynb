{
 "cells": [
  {
   "cell_type": "code",
   "execution_count": 1,
   "id": "5f1c0104",
   "metadata": {
    "execution": {
     "iopub.execute_input": "2023-10-17T20:29:50.539119Z",
     "iopub.status.busy": "2023-10-17T20:29:50.538741Z",
     "iopub.status.idle": "2023-10-17T20:29:51.385525Z",
     "shell.execute_reply": "2023-10-17T20:29:51.384310Z"
    },
    "papermill": {
     "duration": 0.852989,
     "end_time": "2023-10-17T20:29:51.388008",
     "exception": false,
     "start_time": "2023-10-17T20:29:50.535019",
     "status": "completed"
    },
    "tags": []
   },
   "outputs": [],
   "source": [
    "import pandas as pd\n",
    "\n",
    "# Sample data (you can use your actual data)\n",
    "data = pd.read_csv('/kaggle/input/malaria/malaria.csv')\n",
    "\n",
    "# Assuming data is already sorted by the wave column\n",
    "# Initialize variables\n",
    "spectra = []  # To store individual spectra\n",
    "current_spectrum = []  # To store the current spectrum\n",
    "\n",
    "# Define the number of spectra to extract\n",
    "num_spectra_to_extract = 6\n",
    "\n",
    "# Iterate through the data\n",
    "for index, row in data.iterrows():\n",
    "    # Check if the wave value indicates the start of a new spectrum\n",
    "    if row['#Wave'] == 1705.003906:\n",
    "        # If it's not the first spectrum, add the current_spectrum to the list\n",
    "        if current_spectrum:\n",
    "            spectra.append(current_spectrum)\n",
    "            current_spectrum = []  # Reset the current spectrum\n",
    "        # If we have collected the desired number of spectra, break the loop\n",
    "        if len(spectra) == num_spectra_to_extract:\n",
    "            break\n",
    "\n",
    "    # Append the current row to the current_spectrum\n",
    "    current_spectrum.append(row)\n",
    "\n",
    "# Append the last spectrum (if any)\n",
    "if current_spectrum:\n",
    "    spectra.append(current_spectrum)\n",
    "\n",
    "# Now, 'spectra' contains a list of 6 individual spectra"
   ]
  },
  {
   "cell_type": "code",
   "execution_count": 2,
   "id": "b11e26b6",
   "metadata": {
    "execution": {
     "iopub.execute_input": "2023-10-17T20:29:51.392739Z",
     "iopub.status.busy": "2023-10-17T20:29:51.392385Z",
     "iopub.status.idle": "2023-10-17T20:29:51.472135Z",
     "shell.execute_reply": "2023-10-17T20:29:51.470921Z"
    },
    "papermill": {
     "duration": 0.084834,
     "end_time": "2023-10-17T20:29:51.474596",
     "exception": false,
     "start_time": "2023-10-17T20:29:51.389762",
     "status": "completed"
    },
    "tags": []
   },
   "outputs": [],
   "source": [
    "# Random extraction\n",
    "import pandas as pd\n",
    "import random\n",
    "\n",
    "# Sample data (you can use your actual data)\n",
    "data = pd.read_csv('/kaggle/input/malaria/malaria.csv')\n",
    "\n",
    "# Shuffle the data randomly\n",
    "shuffled_data = data.sample(frac=1, random_state=42)  # You can change the random_state for different shuffling\n",
    "\n",
    "# Extract the first 6 spectra from the shuffled data\n",
    "num_spectra_to_extract = 6\n",
    "selected_spectra = shuffled_data.head(num_spectra_to_extract)\n",
    "\n",
    "# Now, 'selected_spectra' contains 6 spectra randomly selected from your 133 spectra database"
   ]
  }
 ],
 "metadata": {
  "kernelspec": {
   "display_name": "Python 3",
   "language": "python",
   "name": "python3"
  },
  "language_info": {
   "codemirror_mode": {
    "name": "ipython",
    "version": 3
   },
   "file_extension": ".py",
   "mimetype": "text/x-python",
   "name": "python",
   "nbconvert_exporter": "python",
   "pygments_lexer": "ipython3",
   "version": "3.10.12"
  },
  "papermill": {
   "default_parameters": {},
   "duration": 4.675653,
   "end_time": "2023-10-17T20:29:51.999292",
   "environment_variables": {},
   "exception": null,
   "input_path": "__notebook__.ipynb",
   "output_path": "__notebook__.ipynb",
   "parameters": {},
   "start_time": "2023-10-17T20:29:47.323639",
   "version": "2.4.0"
  }
 },
 "nbformat": 4,
 "nbformat_minor": 5
}
