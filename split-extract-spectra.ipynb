{
 "cells": [
  {
   "cell_type": "code",
   "execution_count": 1,
   "id": "6b062355",
   "metadata": {
    "execution": {
     "iopub.execute_input": "2023-10-18T18:20:34.438460Z",
     "iopub.status.busy": "2023-10-18T18:20:34.437869Z",
     "iopub.status.idle": "2023-10-18T18:20:35.292607Z",
     "shell.execute_reply": "2023-10-18T18:20:35.291761Z"
    },
    "papermill": {
     "duration": 0.86091,
     "end_time": "2023-10-18T18:20:35.294873",
     "exception": false,
     "start_time": "2023-10-18T18:20:34.433963",
     "status": "completed"
    },
    "tags": []
   },
   "outputs": [],
   "source": [
    "# EXTRACT CONSECUTIVELY\n",
    "\n",
    "import pandas as pd\n",
    "\n",
    "data = pd.read_csv('/kaggle/input/malaria/malaria.csv')\n",
    "\n",
    "# Initialize variables\n",
    "spectra = []             # store individual spectra\n",
    "current_spectrum = []    # store current spectrum\n",
    "\n",
    "# Define number of spectra to extract\n",
    "num_spectra_to_extract = 6\n",
    "\n",
    "# Iterate through data\n",
    "for index, row in data.iterrows():\n",
    "    # Check if wave value indicates start of new spectrum\n",
    "    if row['#Wave'] == 1705.003906:\n",
    "        # If it is not the first spectrum, add current_spectrum to list\n",
    "        if current_spectrum:\n",
    "            spectra.append(current_spectrum)\n",
    "            current_spectrum = []  # Reset the current spectrum\n",
    "        # If is collected the desired number of spectra, break loop\n",
    "        if len(spectra) == num_spectra_to_extract:\n",
    "            break\n",
    "\n",
    "    # Append current row to current_spectrum\n",
    "    current_spectrum.append(row)\n",
    "\n",
    "# Append last spectrum\n",
    "if current_spectrum:\n",
    "    spectra.append(current_spectrum)"
   ]
  },
  {
   "cell_type": "code",
   "execution_count": 2,
   "id": "1a32789b",
   "metadata": {
    "execution": {
     "iopub.execute_input": "2023-10-18T18:20:35.300143Z",
     "iopub.status.busy": "2023-10-18T18:20:35.299764Z",
     "iopub.status.idle": "2023-10-18T18:20:35.600977Z",
     "shell.execute_reply": "2023-10-18T18:20:35.600147Z"
    },
    "papermill": {
     "duration": 0.308636,
     "end_time": "2023-10-18T18:20:35.605338",
     "exception": false,
     "start_time": "2023-10-18T18:20:35.296702",
     "status": "completed"
    },
    "tags": []
   },
   "outputs": [],
   "source": [
    "# EXTRACT RANDOMLY\n",
    "\n",
    "import pandas as pd\n",
    "import random\n",
    "\n",
    "\n",
    "data = pd.read_csv('/kaggle/input/malaria/malaria.csv')\n",
    "\n",
    "# Shuffle data randomly\n",
    "shuffled_data = data.sample(frac=1, random_state=42)\n",
    "\n",
    "# Initialize variables\n",
    "selected_spectra = []  # To store the selected spectra\n",
    "current_spectrum = []  # To store the current spectrum\n",
    "\n",
    "# Iterate through shuffled data & collect 6 spectra separated by 1705.003906\n",
    "for index, row in shuffled_data.iterrows():\n",
    "    current_spectrum.append(row)\n",
    "    \n",
    "    # Check if current row's wave value indicates start of new spectrum\n",
    "    if row['#Wave'] == 1705.003906:\n",
    "        if len(current_spectrum) > 1:\n",
    "            selected_spectra.append(current_spectrum)\n",
    "            if len(selected_spectra) == 6:\n",
    "                break\n",
    "        current_spectrum = []\n",
    "\n",
    "# Append last spectrum\n",
    "if current_spectrum:\n",
    "    selected_spectra.append(current_spectrum)"
   ]
  }
 ],
 "metadata": {
  "kernelspec": {
   "display_name": "Python 3",
   "language": "python",
   "name": "python3"
  },
  "language_info": {
   "codemirror_mode": {
    "name": "ipython",
    "version": 3
   },
   "file_extension": ".py",
   "mimetype": "text/x-python",
   "name": "python",
   "nbconvert_exporter": "python",
   "pygments_lexer": "ipython3",
   "version": "3.10.12"
  },
  "papermill": {
   "default_parameters": {},
   "duration": 5.132114,
   "end_time": "2023-10-18T18:20:36.127116",
   "environment_variables": {},
   "exception": null,
   "input_path": "__notebook__.ipynb",
   "output_path": "__notebook__.ipynb",
   "parameters": {},
   "start_time": "2023-10-18T18:20:30.995002",
   "version": "2.4.0"
  }
 },
 "nbformat": 4,
 "nbformat_minor": 5
}
